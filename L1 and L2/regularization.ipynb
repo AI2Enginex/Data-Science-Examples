{
 "cells": [
  {
   "cell_type": "markdown",
   "id": "e3d13b97",
   "metadata": {},
   "source": [
    "# Ridge and Lasso Regularization Examples\n",
    "\n",
    "\n",
    "In machine learning, regularization is used to prevent overfitting — when a model memorizes the training data instead of learning patterns.\n",
    "\n",
    "It does this by penalizing complex models (especially those with large weights).\n",
    "\n",
    "\n",
    "**L2 Regularization (Ridge)**\n",
    "\n",
    "***Formula: Loss = Original Loss + λ * (w₁² + w₂² + ... + wₙ²)***\n",
    "\n",
    "1. Adds the sum of squared weights to the loss.\n",
    "\n",
    "2. Keeps weights small, but not exactly zero.\n",
    "\n",
    "3. Encourages smoothness and distributed learning.\n",
    "\n",
    "\n",
    "\n",
    "**L1 Regularization (Lasso)**\n",
    "\n",
    "***Formula: Loss = Original Loss + λ * (|w₁| + |w₂| + ... + |wₙ|)***\n",
    "\n",
    "1. Adds the sum of absolute weights to the loss.\n",
    "\n",
    "2. Drives some weights exactly to zero.\n",
    "\n",
    "3. Encourages sparsity (feature selection)."
   ]
  },
  {
   "cell_type": "code",
   "execution_count": 5,
   "id": "6bd42825",
   "metadata": {},
   "outputs": [],
   "source": [
    "import numpy as np\n",
    "import pandas as pd\n",
    "from sklearn.linear_model import Lasso, Ridge, LinearRegression\n",
    "from sklearn.model_selection import train_test_split\n",
    "from sklearn.metrics import mean_squared_error"
   ]
  },
  {
   "cell_type": "code",
   "execution_count": 2,
   "id": "02dbf1c5",
   "metadata": {},
   "outputs": [],
   "source": [
    "# 1. Create a synthetic dataset\n",
    "np.random.seed(42)\n",
    "n_samples = 200\n",
    "\n",
    "# Meaningful features\n",
    "area = np.random.normal(2000, 500, n_samples)           # Area in sqft\n",
    "bedrooms = np.random.randint(1, 5, n_samples)           # Number of bedrooms\n",
    "bathrooms = np.random.randint(1, 4, n_samples)          # Number of bathrooms\n",
    "age = np.random.randint(0, 30, n_samples)               # Age of house\n",
    "distance = np.random.normal(10, 5, n_samples)           # Distance to city in km\n",
    "garage = np.random.randint(0, 3, n_samples)             # Garage size (0–2 cars)\n",
    "\n",
    "# Noise features (unrelated to target)\n",
    "noise1 = np.random.randn(n_samples)\n",
    "noise2 = np.random.randn(n_samples)\n",
    "\n",
    "# Target variable: Price (in $1000s)\n",
    "price = (area * 0.3 + bedrooms * 10 + bathrooms * 15 - age * 2 - distance * 3 + garage * 20 \n",
    "         + np.random.normal(0, 10000, n_samples))\n",
    "\n",
    "# 2. Combine into DataFrame\n",
    "df = pd.DataFrame({\n",
    "    'Area': area,\n",
    "    'Bedrooms': bedrooms,\n",
    "    'Bathrooms': bathrooms,\n",
    "    'Age': age,\n",
    "    'Distance_to_City': distance,\n",
    "    'Garage_Size': garage,\n",
    "    'Noise1': noise1,\n",
    "    'Noise2': noise2,\n",
    "    'Price': price\n",
    "})"
   ]
  },
  {
   "cell_type": "code",
   "execution_count": 3,
   "id": "ab1376a7",
   "metadata": {},
   "outputs": [],
   "source": [
    "# 3. Split into features and target\n",
    "X = df.drop('Price', axis=1)\n",
    "y = df['Price']"
   ]
  },
  {
   "cell_type": "code",
   "execution_count": 4,
   "id": "de84b90e",
   "metadata": {},
   "outputs": [],
   "source": [
    "# 4. Train-test split\n",
    "X_train, X_test, y_train, y_test = train_test_split(X, y, test_size=0.3, random_state=42)\n"
   ]
  },
  {
   "cell_type": "code",
   "execution_count": 6,
   "id": "4996b0f3",
   "metadata": {},
   "outputs": [],
   "source": [
    "lin_reg = LinearRegression()\n",
    "lin_reg.fit(X_train, y_train)\n",
    "y_pred_lin = lin_reg.predict(X_test)"
   ]
  },
  {
   "cell_type": "code",
   "execution_count": 7,
   "id": "2eef836c",
   "metadata": {},
   "outputs": [],
   "source": [
    "ridge = Ridge(alpha=100)\n",
    "ridge.fit(X_train, y_train)\n",
    "y_pred_ridge = ridge.predict(X_test)"
   ]
  },
  {
   "cell_type": "code",
   "execution_count": 8,
   "id": "c43d2418",
   "metadata": {},
   "outputs": [],
   "source": [
    "lasso = Lasso(alpha=100)\n",
    "lasso.fit(X_train, y_train)\n",
    "y_pred_lasso = lasso.predict(X_test)"
   ]
  },
  {
   "cell_type": "code",
   "execution_count": 12,
   "id": "1d326f70",
   "metadata": {},
   "outputs": [
    {
     "name": "stdout",
     "output_type": "stream",
     "text": [
      "Mean Squared Error:\n",
      "Linear Regression: 113779326.71\n",
      "Ridge Regression: 111821824.39\n",
      "Lasso Regression: 112947910.78\n"
     ]
    }
   ],
   "source": [
    "print(\"Mean Squared Error:\")\n",
    "print(f\"Linear Regression: {mean_squared_error(y_test, y_pred_lin):.2f}\")\n",
    "print(f\"Ridge Regression: {mean_squared_error(y_test, y_pred_ridge):.2f}\")\n",
    "print(f\"Lasso Regression: {mean_squared_error(y_test, y_pred_lasso):.2f}\")"
   ]
  },
  {
   "cell_type": "code",
   "execution_count": 10,
   "id": "8314f39c",
   "metadata": {},
   "outputs": [],
   "source": [
    "coeffs = pd.DataFrame({\n",
    "    'Feature': X.columns,\n",
    "    'Linear Coef': np.round(lin_reg.coef_, 2),\n",
    "    'Ridge Coef': np.round(ridge.coef_, 2),\n",
    "    'Lasso Coef': np.round(lasso.coef_, 2)\n",
    "})"
   ]
  },
  {
   "cell_type": "code",
   "execution_count": 11,
   "id": "51efc25a",
   "metadata": {},
   "outputs": [
    {
     "data": {
      "text/html": [
       "<div>\n",
       "<style scoped>\n",
       "    .dataframe tbody tr th:only-of-type {\n",
       "        vertical-align: middle;\n",
       "    }\n",
       "\n",
       "    .dataframe tbody tr th {\n",
       "        vertical-align: top;\n",
       "    }\n",
       "\n",
       "    .dataframe thead th {\n",
       "        text-align: right;\n",
       "    }\n",
       "</style>\n",
       "<table border=\"1\" class=\"dataframe\">\n",
       "  <thead>\n",
       "    <tr style=\"text-align: right;\">\n",
       "      <th></th>\n",
       "      <th>Feature</th>\n",
       "      <th>Linear Coef</th>\n",
       "      <th>Ridge Coef</th>\n",
       "      <th>Lasso Coef</th>\n",
       "    </tr>\n",
       "  </thead>\n",
       "  <tbody>\n",
       "    <tr>\n",
       "      <th>0</th>\n",
       "      <td>Area</td>\n",
       "      <td>1.10</td>\n",
       "      <td>1.13</td>\n",
       "      <td>1.12</td>\n",
       "    </tr>\n",
       "    <tr>\n",
       "      <th>1</th>\n",
       "      <td>Bedrooms</td>\n",
       "      <td>1721.43</td>\n",
       "      <td>1108.53</td>\n",
       "      <td>1649.03</td>\n",
       "    </tr>\n",
       "    <tr>\n",
       "      <th>2</th>\n",
       "      <td>Bathrooms</td>\n",
       "      <td>-687.66</td>\n",
       "      <td>-324.26</td>\n",
       "      <td>-534.17</td>\n",
       "    </tr>\n",
       "    <tr>\n",
       "      <th>3</th>\n",
       "      <td>Age</td>\n",
       "      <td>-139.19</td>\n",
       "      <td>-140.89</td>\n",
       "      <td>-138.53</td>\n",
       "    </tr>\n",
       "    <tr>\n",
       "      <th>4</th>\n",
       "      <td>Distance_to_City</td>\n",
       "      <td>-155.49</td>\n",
       "      <td>-132.69</td>\n",
       "      <td>-146.07</td>\n",
       "    </tr>\n",
       "    <tr>\n",
       "      <th>5</th>\n",
       "      <td>Garage_Size</td>\n",
       "      <td>-720.90</td>\n",
       "      <td>-371.06</td>\n",
       "      <td>-584.54</td>\n",
       "    </tr>\n",
       "    <tr>\n",
       "      <th>6</th>\n",
       "      <td>Noise1</td>\n",
       "      <td>-712.28</td>\n",
       "      <td>-451.75</td>\n",
       "      <td>-627.83</td>\n",
       "    </tr>\n",
       "    <tr>\n",
       "      <th>7</th>\n",
       "      <td>Noise2</td>\n",
       "      <td>-693.18</td>\n",
       "      <td>-463.49</td>\n",
       "      <td>-613.06</td>\n",
       "    </tr>\n",
       "  </tbody>\n",
       "</table>\n",
       "</div>"
      ],
      "text/plain": [
       "            Feature  Linear Coef  Ridge Coef  Lasso Coef\n",
       "0              Area         1.10        1.13        1.12\n",
       "1          Bedrooms      1721.43     1108.53     1649.03\n",
       "2         Bathrooms      -687.66     -324.26     -534.17\n",
       "3               Age      -139.19     -140.89     -138.53\n",
       "4  Distance_to_City      -155.49     -132.69     -146.07\n",
       "5       Garage_Size      -720.90     -371.06     -584.54\n",
       "6            Noise1      -712.28     -451.75     -627.83\n",
       "7            Noise2      -693.18     -463.49     -613.06"
      ]
     },
     "execution_count": 11,
     "metadata": {},
     "output_type": "execute_result"
    }
   ],
   "source": [
    "coeffs"
   ]
  },
  {
   "cell_type": "code",
   "execution_count": null,
   "id": "7aaf8ae3",
   "metadata": {},
   "outputs": [],
   "source": []
  }
 ],
 "metadata": {
  "kernelspec": {
   "display_name": "Python 3",
   "language": "python",
   "name": "python3"
  },
  "language_info": {
   "codemirror_mode": {
    "name": "ipython",
    "version": 3
   },
   "file_extension": ".py",
   "mimetype": "text/x-python",
   "name": "python",
   "nbconvert_exporter": "python",
   "pygments_lexer": "ipython3",
   "version": "3.12.4"
  }
 },
 "nbformat": 4,
 "nbformat_minor": 5
}

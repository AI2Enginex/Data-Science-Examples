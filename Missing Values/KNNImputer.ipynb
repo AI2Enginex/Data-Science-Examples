{
 "cells": [
  {
   "cell_type": "markdown",
   "id": "8773544b",
   "metadata": {},
   "source": [
    "# Handling Missing Values using KNNImputer\n",
    "\n",
    "KNN Imputation is a technique for filling in missing values in your dataset using the K-Nearest Neighbors algorithm.\n",
    "\n",
    "Instead of guessing or using mean/median, it finds rows (samples) that are similar to the one with the missing value — based on other non-missing features — and uses their values to fill in the gap.\n",
    "\n",
    "\n",
    "\n",
    "## How Does it Work?\n",
    "\n",
    "Let’s say we’re missing a value in a column called BMI for a particular patient.\n",
    "\n",
    "Here’s what KNN Imputation will do:\n",
    "\n",
    "1. Find the K most similar rows (neighbors).\n",
    "\n",
    "2. Similarity is usually calculated using Euclidean distance (for numeric features).\n",
    "\n",
    "3. Average the values of BMI from those K neighbors (or use a weighted average).\n",
    "\n",
    "4. Fill in the missing BMI value with that average.\n",
    "\n",
    "\n",
    "### When to Use KNN Imputation?\n",
    "\n",
    "**Good When:**\n",
    "\n",
    "1. You have moderate amount of missing data\n",
    "\n",
    "2. Your dataset is not too large (KNN can be slow)\n",
    "\n",
    "3. Features are correlated and on similar scales (standardize first!)\n",
    "\n",
    "**Avoid When:**\n",
    "\n",
    "1. Too much missing data\n",
    "\n",
    "2. Very high-dimensional data (curse of dimensionality)\n",
    "\n",
    "3. Features are not correlated or poorly scaled\n",
    "\n"
   ]
  },
  {
   "cell_type": "code",
   "execution_count": 1,
   "id": "0f1a0023",
   "metadata": {},
   "outputs": [],
   "source": [
    "import pandas as pd\n",
    "import numpy as np\n",
    "from sklearn.impute import KNNImputer\n",
    "from sklearn.linear_model import LinearRegression\n",
    "from sklearn.model_selection import train_test_split\n",
    "from sklearn.preprocessing import LabelEncoder"
   ]
  },
  {
   "cell_type": "code",
   "execution_count": 2,
   "id": "bd2fda22",
   "metadata": {},
   "outputs": [
    {
     "name": "stdout",
     "output_type": "stream",
     "text": [
      "🔍 Original Data with Nulls:\n",
      "Age             0\n",
      "BMI            10\n",
      "Cholesterol     8\n",
      "Gender          0\n",
      "Smoker          0\n",
      "Risk            0\n",
      "dtype: int64\n"
     ]
    }
   ],
   "source": [
    "np.random.seed(42)\n",
    "\n",
    "n = 100\n",
    "data = pd.DataFrame({\n",
    "    'Age': np.random.randint(25, 60, size=n),\n",
    "    'BMI': np.random.normal(25, 4, size=n),\n",
    "    'Cholesterol': np.random.normal(200, 30, size=n),\n",
    "    'Gender': np.random.choice(['Male', 'Female'], size=n),\n",
    "    'Smoker': np.random.choice(['Yes', 'No'], size=n),\n",
    "    'Risk': np.random.choice(['Low', 'High'], size=n)\n",
    "})\n",
    "\n",
    "# Inject missing values into BMI and Cholesterol\n",
    "data.loc[np.random.choice(n, 10, replace=False), 'BMI'] = np.nan\n",
    "data.loc[np.random.choice(n, 8, replace=False), 'Cholesterol'] = np.nan\n",
    "\n",
    "print(\"🔍 Original Data with Nulls:\")\n",
    "print(data.isnull().sum())"
   ]
  },
  {
   "cell_type": "code",
   "execution_count": 3,
   "id": "d05ca457",
   "metadata": {},
   "outputs": [],
   "source": [
    "label_cols = ['Gender', 'Smoker', 'Risk']\n",
    "label_encoders = {}\n",
    "\n",
    "for col in label_cols:\n",
    "    le = LabelEncoder()\n",
    "    data[col] = le.fit_transform(data[col])\n",
    "    label_encoders[col] = le"
   ]
  },
  {
   "cell_type": "code",
   "execution_count": 4,
   "id": "117627b4",
   "metadata": {},
   "outputs": [],
   "source": [
    "data_knn = data.copy()\n"
   ]
  },
  {
   "cell_type": "code",
   "execution_count": 14,
   "id": "b2b9a973",
   "metadata": {},
   "outputs": [
    {
     "data": {
      "text/html": [
       "<div>\n",
       "<style scoped>\n",
       "    .dataframe tbody tr th:only-of-type {\n",
       "        vertical-align: middle;\n",
       "    }\n",
       "\n",
       "    .dataframe tbody tr th {\n",
       "        vertical-align: top;\n",
       "    }\n",
       "\n",
       "    .dataframe thead th {\n",
       "        text-align: right;\n",
       "    }\n",
       "</style>\n",
       "<table border=\"1\" class=\"dataframe\">\n",
       "  <thead>\n",
       "    <tr style=\"text-align: right;\">\n",
       "      <th></th>\n",
       "      <th>Age</th>\n",
       "      <th>BMI</th>\n",
       "      <th>Cholesterol</th>\n",
       "      <th>Gender</th>\n",
       "      <th>Smoker</th>\n",
       "      <th>Risk</th>\n",
       "    </tr>\n",
       "  </thead>\n",
       "  <tbody>\n",
       "    <tr>\n",
       "      <th>Age</th>\n",
       "      <td>1.000000</td>\n",
       "      <td>0.294181</td>\n",
       "      <td>0.034000</td>\n",
       "      <td>0.070851</td>\n",
       "      <td>0.017535</td>\n",
       "      <td>0.082658</td>\n",
       "    </tr>\n",
       "    <tr>\n",
       "      <th>BMI</th>\n",
       "      <td>0.294181</td>\n",
       "      <td>1.000000</td>\n",
       "      <td>-0.058582</td>\n",
       "      <td>0.086521</td>\n",
       "      <td>0.092542</td>\n",
       "      <td>-0.056832</td>\n",
       "    </tr>\n",
       "    <tr>\n",
       "      <th>Cholesterol</th>\n",
       "      <td>0.034000</td>\n",
       "      <td>-0.058582</td>\n",
       "      <td>1.000000</td>\n",
       "      <td>-0.082889</td>\n",
       "      <td>-0.286582</td>\n",
       "      <td>0.193503</td>\n",
       "    </tr>\n",
       "    <tr>\n",
       "      <th>Gender</th>\n",
       "      <td>0.070851</td>\n",
       "      <td>0.086521</td>\n",
       "      <td>-0.082889</td>\n",
       "      <td>1.000000</td>\n",
       "      <td>0.047043</td>\n",
       "      <td>0.040032</td>\n",
       "    </tr>\n",
       "    <tr>\n",
       "      <th>Smoker</th>\n",
       "      <td>0.017535</td>\n",
       "      <td>0.092542</td>\n",
       "      <td>-0.286582</td>\n",
       "      <td>0.047043</td>\n",
       "      <td>1.000000</td>\n",
       "      <td>-0.040522</td>\n",
       "    </tr>\n",
       "    <tr>\n",
       "      <th>Risk</th>\n",
       "      <td>0.082658</td>\n",
       "      <td>-0.056832</td>\n",
       "      <td>0.193503</td>\n",
       "      <td>0.040032</td>\n",
       "      <td>-0.040522</td>\n",
       "      <td>1.000000</td>\n",
       "    </tr>\n",
       "  </tbody>\n",
       "</table>\n",
       "</div>"
      ],
      "text/plain": [
       "                  Age       BMI  Cholesterol    Gender    Smoker      Risk\n",
       "Age          1.000000  0.294181     0.034000  0.070851  0.017535  0.082658\n",
       "BMI          0.294181  1.000000    -0.058582  0.086521  0.092542 -0.056832\n",
       "Cholesterol  0.034000 -0.058582     1.000000 -0.082889 -0.286582  0.193503\n",
       "Gender       0.070851  0.086521    -0.082889  1.000000  0.047043  0.040032\n",
       "Smoker       0.017535  0.092542    -0.286582  0.047043  1.000000 -0.040522\n",
       "Risk         0.082658 -0.056832     0.193503  0.040032 -0.040522  1.000000"
      ]
     },
     "execution_count": 14,
     "metadata": {},
     "output_type": "execute_result"
    }
   ],
   "source": [
    "data_knn.corr()"
   ]
  },
  {
   "cell_type": "code",
   "execution_count": 5,
   "id": "c695edc8",
   "metadata": {},
   "outputs": [],
   "source": [
    "knn_imputer = KNNImputer(n_neighbors=5)\n",
    "data_knn_imputed = pd.DataFrame(knn_imputer.fit_transform(data_knn), columns=data.columns)"
   ]
  },
  {
   "cell_type": "code",
   "execution_count": 6,
   "id": "b630c8e5",
   "metadata": {},
   "outputs": [
    {
     "data": {
      "text/plain": [
       "Age            0\n",
       "BMI            0\n",
       "Cholesterol    0\n",
       "Gender         0\n",
       "Smoker         0\n",
       "Risk           0\n",
       "dtype: int64"
      ]
     },
     "execution_count": 6,
     "metadata": {},
     "output_type": "execute_result"
    }
   ],
   "source": [
    "data_knn_imputed.isnull().sum()"
   ]
  },
  {
   "cell_type": "markdown",
   "id": "124650c2",
   "metadata": {},
   "source": [
    "# Linear Regression used for Missing Values\n",
    "\n",
    "We use Linear Regression as a predictive model — but instead of predicting a target label like in ML tasks, we predict the missing feature itself using other known features!\n",
    "\n",
    "\n",
    "## Intuition:\n",
    "\n",
    "Imagine you're missing someone's Cholesterol level (from the dataset used earlier) but you know:\n",
    "\n",
    "1. Their Age\n",
    "\n",
    "2. heir BMI\n",
    "\n",
    "3. Whether they Smoke\n",
    "\n",
    "4. Their Gender\n",
    "\n",
    "Now, if you have a lot of other people’s records where all these things are known, you can train a linear regression model:\n",
    "\n",
    "“Based on Age, BMI, Gender, and Smoker status, what is the expected Cholesterol?”\n",
    "\n",
    "## The Steps:\n",
    "\n",
    "**Separate the data:**\n",
    "\n",
    "1. One part where Cholesterol is known (for training).\n",
    "\n",
    "2. Another part where it’s missing (for prediction).\n",
    "\n",
    "**Train Linear Regression**\n",
    "\n",
    "1. Predict Cholesterol using the known columns (Age, BMI, etc.).\n",
    "\n",
    "**Predict Missing Values**\n",
    "\n",
    "1. Use the model to predict cholesterol for rows where it's missing.\n",
    "\n",
    "**Fill those missing values**\n",
    "\n",
    "1. Imputed values go back into the dataset.\n",
    "\n",
    "## When is this effective?\n",
    "\n",
    "1. When the feature you’re imputing is correlated with the others\n",
    "\n",
    "2. You have enough complete rows to train a decent model\n",
    "\n",
    "3. The relationships are more or less linear"
   ]
  }
 ],
 "metadata": {
  "kernelspec": {
   "display_name": "Python 3",
   "language": "python",
   "name": "python3"
  },
  "language_info": {
   "codemirror_mode": {
    "name": "ipython",
    "version": 3
   },
   "file_extension": ".py",
   "mimetype": "text/x-python",
   "name": "python",
   "nbconvert_exporter": "python",
   "pygments_lexer": "ipython3",
   "version": "3.12.4"
  }
 },
 "nbformat": 4,
 "nbformat_minor": 5
}

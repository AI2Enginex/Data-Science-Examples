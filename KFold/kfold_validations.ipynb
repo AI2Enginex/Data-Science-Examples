{
 "cells": [
  {
   "cell_type": "markdown",
   "id": "0c77d5b4",
   "metadata": {},
   "source": [
    "# Cross Validation\n",
    "\n",
    "Cross-validation is like testing your model on different slices of the dataset to make sure it doesn’t just memorize the training data — but actually learns patterns that generalize well.\n",
    "\n",
    "\n",
    "### Imagine you're preparing for an exam. Instead of taking the whole syllabus at once, you:\n",
    "\n",
    "    1. Split the syllabus into parts.\n",
    "\n",
    "    2. Study some parts and test yourself on others.\n",
    "\n",
    "    3. Repeat this process to make sure you're well-prepared from all angles.\n",
    "\n",
    "    That’s cross-validation!\n",
    "\n",
    "### Why is it Useful?\n",
    "\n",
    "    1. Helps detect overfitting\n",
    "\n",
    "    2. Makes better use of limited data\n",
    "\n",
    "    3. Provides a more robust estimate of performance than a single train/test split\n",
    "\n"
   ]
  },
  {
   "cell_type": "markdown",
   "id": "e4700c33",
   "metadata": {},
   "source": [
    "## Importing Libraries"
   ]
  },
  {
   "cell_type": "code",
   "execution_count": 13,
   "id": "8e44a03e",
   "metadata": {},
   "outputs": [],
   "source": [
    "import pandas as pd\n",
    "import numpy as np\n",
    "from sklearn.model_selection import KFold,train_test_split, cross_val_score\n",
    "from sklearn.linear_model import LogisticRegression\n",
    "from sklearn.preprocessing import StandardScaler\n",
    "from sklearn.metrics import classification_report"
   ]
  },
  {
   "cell_type": "markdown",
   "id": "b636077f",
   "metadata": {},
   "source": [
    "## Preparing a Sample Dataset"
   ]
  },
  {
   "cell_type": "code",
   "execution_count": 2,
   "id": "03a5e680",
   "metadata": {},
   "outputs": [],
   "source": [
    "np.random.seed(42)\n",
    "n = 100\n",
    "\n",
    "data = pd.DataFrame({\n",
    "    'Age': np.random.randint(30, 70, n),\n",
    "    'Cholesterol': np.random.randint(150, 300, n),\n",
    "    'SystolicBP': np.random.randint(110, 180, n),\n",
    "    'BMI': np.round(np.random.normal(25, 4, n), 1),\n",
    "    'Smoker': np.random.choice([0, 1], n),\n",
    "    'ExerciseFreq': np.random.choice([0, 1, 2], n),  # 0: Rarely, 1: Sometimes, 2: Regularly\n",
    "})\n",
    "\n",
    "# Create a simple target variable (1 = High Risk, 0 = Low Risk)\n",
    "# We'll assume risk increases with age, cholesterol, BP, BMI, and smoking\n",
    "data['Risk'] = (\n",
    "    (data['Age'] > 50).astype(int) +\n",
    "    (data['Cholesterol'] > 240).astype(int) +\n",
    "    (data['SystolicBP'] > 140).astype(int) +\n",
    "    (data['BMI'] > 28).astype(int) +\n",
    "    data['Smoker']\n",
    ")\n",
    "\n",
    "# Label as \"High Risk\" (1) if sum of risk factors >= 3\n",
    "data['Risk'] = (data['Risk'] >= 3).astype(int)\n"
   ]
  },
  {
   "cell_type": "markdown",
   "id": "b1a7b42a",
   "metadata": {},
   "source": [
    "## Seperating Independent and Dependent Variables"
   ]
  },
  {
   "cell_type": "code",
   "execution_count": 3,
   "id": "70d6eae7",
   "metadata": {},
   "outputs": [],
   "source": [
    "X = data.drop('Risk', axis=1)\n",
    "y = data['Risk']"
   ]
  },
  {
   "cell_type": "markdown",
   "id": "51b70cda",
   "metadata": {},
   "source": [
    "### Preparing the Train and Test split"
   ]
  },
  {
   "cell_type": "code",
   "execution_count": 5,
   "id": "2a086bb6",
   "metadata": {},
   "outputs": [],
   "source": [
    "X_train, X_test, y_train, y_test = train_test_split(X, y, test_size=0.2, random_state=42, stratify=y)"
   ]
  },
  {
   "cell_type": "markdown",
   "id": "99c1b8ba",
   "metadata": {},
   "source": [
    "### Feature Scaline"
   ]
  },
  {
   "cell_type": "code",
   "execution_count": 6,
   "id": "cfd66492",
   "metadata": {},
   "outputs": [],
   "source": [
    "scaler = StandardScaler()\n",
    "X_train_scaled = scaler.fit_transform(X_train)\n",
    "X_test_scaled = scaler.transform(X_test)"
   ]
  },
  {
   "cell_type": "markdown",
   "id": "8de96893",
   "metadata": {},
   "source": [
    "### Logistic Regression with K-Fold cross Validation\n",
    "\n",
    "\n",
    "**How to Decide?**\n",
    "\n",
    "***Use K-Fold Cross Validation when:***\n",
    "\n",
    "    You have enough data.\n",
    "\n",
    "    Your data is not time-based.\n",
    "\n",
    "    You want a simple and effective estimate of model performance.\n",
    "\n",
    "***Use Stratified K-Fold when:***\n",
    "\n",
    "    You’re doing a classification task.\n",
    "\n",
    "    Your classes are imbalanced (e.g., 90% class A, 10% class B).\n",
    "\n",
    "    Ensures fair distribution of labels in each fold.\n",
    "\n",
    "***Use LOOCV when:***\n",
    "\n",
    "    You have very few samples (like <100).\n",
    "\n",
    "    You want max training data per fold, but it will be slow.\n",
    "\n",
    "***Use Group K-Fold when:***\n",
    "\n",
    "    You have data where observations are not independent (e.g., multiple rows per patient or user).\n",
    "\n",
    "    You want to prevent the same user from being in both train and test.\n",
    "\n",
    "***Use TimeSeriesSplit when:***\n",
    "\n",
    "    Your data is ordered in time.\n",
    "\n",
    "    You’re predicting the future based on the past (e.g., stock prices, weather).\n",
    "\n",
    "    You must not shuffle the data."
   ]
  },
  {
   "cell_type": "code",
   "execution_count": 8,
   "id": "5b75dce5",
   "metadata": {},
   "outputs": [],
   "source": [
    "model = LogisticRegression()\n",
    "cv = KFold(n_splits=5, shuffle=True, random_state=42)\n",
    "\n",
    "# Perform cross-validation on scaled training data\n",
    "scores = cross_val_score(model, X_train_scaled, y_train, cv=cv, scoring='accuracy')"
   ]
  },
  {
   "cell_type": "code",
   "execution_count": 10,
   "id": "63bbb3ad",
   "metadata": {},
   "outputs": [
    {
     "name": "stdout",
     "output_type": "stream",
     "text": [
      "Cross-Validation Accuracy Scores: [0.875 0.875 0.875 0.875 0.625]\n",
      "Mean CV Accuracy: 0.825\n"
     ]
    }
   ],
   "source": [
    "print(\"Cross-Validation Accuracy Scores:\", scores)\n",
    "print(\"Mean CV Accuracy:\", np.mean(scores).round(3))"
   ]
  },
  {
   "cell_type": "markdown",
   "id": "a79d1d58",
   "metadata": {},
   "source": [
    "## Model Training"
   ]
  },
  {
   "cell_type": "code",
   "execution_count": 11,
   "id": "b6299f98",
   "metadata": {},
   "outputs": [],
   "source": [
    "model.fit(X_train_scaled, y_train)\n",
    "y_pred = model.predict(X_test_scaled)"
   ]
  },
  {
   "cell_type": "markdown",
   "id": "61e9804c",
   "metadata": {},
   "source": [
    "## Evaluating the Model using Classification Report"
   ]
  },
  {
   "cell_type": "code",
   "execution_count": 14,
   "id": "ee8e1f4d",
   "metadata": {},
   "outputs": [],
   "source": [
    "report = classification_report(y_test, y_pred, target_names=[\"Low Risk\", \"High Risk\"])"
   ]
  },
  {
   "cell_type": "code",
   "execution_count": 16,
   "id": "9305e8de",
   "metadata": {},
   "outputs": [
    {
     "name": "stdout",
     "output_type": "stream",
     "text": [
      "              precision    recall  f1-score   support\n",
      "\n",
      "    Low Risk       1.00      0.82      0.90        11\n",
      "   High Risk       0.82      1.00      0.90         9\n",
      "\n",
      "    accuracy                           0.90        20\n",
      "   macro avg       0.91      0.91      0.90        20\n",
      "weighted avg       0.92      0.90      0.90        20\n",
      "\n"
     ]
    }
   ],
   "source": [
    "print(report)"
   ]
  },
  {
   "cell_type": "markdown",
   "id": "96c9d5b2",
   "metadata": {},
   "source": [
    "### What the Metrics Mean:\n",
    "\n",
    "*Precision:* Out of all predicted positives, how many were actually correct?\n",
    "\n",
    "*Recall:* Out of all actual positives, how many did we correctly predict?\n",
    "\n",
    "*F1-Score:* Balance between precision and recall.\n",
    "\n",
    "*Support:* Number of actual samples in each class."
   ]
  },
  {
   "cell_type": "code",
   "execution_count": null,
   "id": "5e400c52",
   "metadata": {},
   "outputs": [],
   "source": []
  }
 ],
 "metadata": {
  "kernelspec": {
   "display_name": "Python 3",
   "language": "python",
   "name": "python3"
  },
  "language_info": {
   "codemirror_mode": {
    "name": "ipython",
    "version": 3
   },
   "file_extension": ".py",
   "mimetype": "text/x-python",
   "name": "python",
   "nbconvert_exporter": "python",
   "pygments_lexer": "ipython3",
   "version": "3.12.4"
  }
 },
 "nbformat": 4,
 "nbformat_minor": 5
}
